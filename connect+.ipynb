{
 "cells": [
  {
   "cell_type": "markdown",
   "metadata": {},
   "source": [
    "Establish connection - standard bit of code that will set up the Intelligent Plant App Store and Data Core API clients for a notebook"
   ]
  },
  {
   "cell_type": "code",
   "execution_count": 44,
   "metadata": {},
   "outputs": [
    {
     "name": "stdout",
     "output_type": "stream",
     "text": [
      "Collecting pandas\n",
      "  Downloading https://files.pythonhosted.org/packages/52/3f/f6a428599e0d4497e1595030965b5ba455fd8ade6e977e3c819973c4b41d/pandas-0.25.3-cp36-cp36m-manylinux1_x86_64.whl (10.4MB)\n",
      "\u001b[K    100% |████████████████████████████████| 10.4MB 149kB/s eta 0:00:01\n",
      "\u001b[?25hCollecting matplotlib\n",
      "  Downloading https://files.pythonhosted.org/packages/4e/11/06958a2b895a3853206dea1fb2a5b11bf044f626f90745987612af9c8f2c/matplotlib-3.1.2-cp36-cp36m-manylinux1_x86_64.whl (13.1MB)\n",
      "\u001b[K    100% |████████████████████████████████| 13.1MB 120kB/s eta 0:00:01\n",
      "\u001b[?25hCollecting python-dateutil>=2.6.1 (from pandas)\n",
      "  Downloading https://files.pythonhosted.org/packages/d4/70/d60450c3dd48ef87586924207ae8907090de0b306af2bce5d134d78615cb/python_dateutil-2.8.1-py2.py3-none-any.whl (227kB)\n",
      "\u001b[K    100% |████████████████████████████████| 235kB 6.0MB/s eta 0:00:01\n",
      "\u001b[?25hCollecting numpy>=1.13.3 (from pandas)\n",
      "  Downloading https://files.pythonhosted.org/packages/d2/ab/43e678759326f728de861edbef34b8e2ad1b1490505f20e0d1f0716c3bf4/numpy-1.17.4-cp36-cp36m-manylinux1_x86_64.whl (20.0MB)\n",
      "\u001b[K    100% |████████████████████████████████| 20.0MB 77kB/s  eta 0:00:01\n",
      "\u001b[?25hCollecting pytz>=2017.2 (from pandas)\n",
      "  Downloading https://files.pythonhosted.org/packages/e7/f9/f0b53f88060247251bf481fa6ea62cd0d25bf1b11a87888e53ce5b7c8ad2/pytz-2019.3-py2.py3-none-any.whl (509kB)\n",
      "\u001b[K    100% |████████████████████████████████| 512kB 3.0MB/s eta 0:00:01\n",
      "\u001b[?25hCollecting pyparsing!=2.0.4,!=2.1.2,!=2.1.6,>=2.0.1 (from matplotlib)\n",
      "  Downloading https://files.pythonhosted.org/packages/c0/0c/fc2e007d9a992d997f04a80125b0f183da7fb554f1de701bbb70a8e7d479/pyparsing-2.4.5-py2.py3-none-any.whl (67kB)\n",
      "\u001b[K    100% |████████████████████████████████| 71kB 12.5MB/s ta 0:00:01\n",
      "\u001b[?25hCollecting cycler>=0.10 (from matplotlib)\n",
      "  Downloading https://files.pythonhosted.org/packages/f7/d2/e07d3ebb2bd7af696440ce7e754c59dd546ffe1bbe732c8ab68b9c834e61/cycler-0.10.0-py2.py3-none-any.whl\n",
      "Collecting kiwisolver>=1.0.1 (from matplotlib)\n",
      "  Downloading https://files.pythonhosted.org/packages/f8/a1/5742b56282449b1c0968197f63eae486eca2c35dcd334bab75ad524e0de1/kiwisolver-1.1.0-cp36-cp36m-manylinux1_x86_64.whl (90kB)\n",
      "\u001b[K    100% |████████████████████████████████| 92kB 13.1MB/s ta 0:00:01\n",
      "\u001b[?25hCollecting six>=1.5 (from python-dateutil>=2.6.1->pandas)\n",
      "  Downloading https://files.pythonhosted.org/packages/65/26/32b8464df2a97e6dd1b656ed26b2c194606c16fe163c695a992b36c11cdf/six-1.13.0-py2.py3-none-any.whl\n",
      "Collecting setuptools (from kiwisolver>=1.0.1->matplotlib)\n",
      "  Downloading https://files.pythonhosted.org/packages/54/28/c45d8b54c1339f9644b87663945e54a8503cfef59cf0f65b3ff5dd17cf64/setuptools-42.0.2-py2.py3-none-any.whl (583kB)\n",
      "\u001b[K    100% |████████████████████████████████| 583kB 2.5MB/s eta 0:00:01\n",
      "\u001b[?25hInstalling collected packages: six, python-dateutil, numpy, pytz, pandas, pyparsing, cycler, setuptools, kiwisolver, matplotlib\n",
      "Successfully installed cycler-0.10.0 kiwisolver-1.1.0 matplotlib-3.1.2 numpy-1.17.4 pandas-0.25.3 pyparsing-2.4.5 python-dateutil-2.8.1 pytz-2019.3 setuptools-42.0.2 six-1.13.0\n",
      "Note: you may need to restart the kernel to use updated packages.\n"
     ]
    }
   ],
   "source": [
    "%pip install pandas matplotlib"
   ]
  },
  {
   "cell_type": "code",
   "execution_count": 1,
   "metadata": {},
   "outputs": [],
   "source": [
    "import intelligent_plant.utility as utility"
   ]
  },
  {
   "cell_type": "code",
   "execution_count": 2,
   "metadata": {},
   "outputs": [],
   "source": [
    "import intelligent_plant.app_store_client as app_store_client\n",
    "from os.path import expanduser\n",
    "app_store = app_store_client.AppStoreClient(open(expanduser(\"~/.access_token\"), \"r\").read())\n",
    "data_core = app_store.get_data_core_client()"
   ]
  },
  {
   "cell_type": "markdown",
   "metadata": {},
   "source": [
    "Get data source from data core"
   ]
  },
  {
   "cell_type": "markdown",
   "metadata": {},
   "source": [
    "Source is '23258373C8D960DBE49C8DEF4CB2DF4212F3352CFDA1B0672F55E27577F1CA3F.WND PI Historian'"
   ]
  },
  {
   "cell_type": "markdown",
   "metadata": {},
   "source": [
    "Build list of tages to be retrieved"
   ]
  },
  {
   "cell_type": "code",
   "execution_count": 53,
   "metadata": {},
   "outputs": [],
   "source": [
    "tags = {\n",
    "    \"23258373C8D960DBE49C8DEF4CB2DF4212F3352CFDA1B0672F55E27577F1CA3F.WND PI Historian\": [\n",
    "        \"WND-GFR-A11PI101A.PV\",\n",
    "        \"WND-GFR-A11TI101A.PV\",\n",
    "        \"WND-GFR-A12PI101A.PV\",\n",
    "        \"WND-GFR-A12TI101A.PV\",\n",
    "        \"WND-GFR-A13PI101A.PV\",\n",
    "        \"WND-GFR-A13TI101A.PV\",\n",
    "        \"WND-GFR-A03-UXT-01-PTT-109A.Pressure.ENG\",\n",
    "        \"WND-GFR-A03-UXT-01-PTT-109A.Temperature.ENG\",\n",
    "        \"WND-GFR-A04-UXT-01-PTT-109A.Pressure.ENG\",\n",
    "        \"WND-GFR-A04-UXT-01-PTT-109A.Temperature.ENG\",\n",
    "        \"WND-GFR-A05-UXT-01-PTT-109A.Pressure.ENG\",\n",
    "        \"WND-GFR-A17-UXT-01-PTT-109A.Temperature.ENG\",\n",
    "        \"WND-GFR-A17-UXT-01-PTT-109A.Pressure.ENG\",\n",
    "        \"WND-GFR-A03-UXT-01-PTT-109A.Pressure.ENG\",\n",
    "        \"WND-GFR-A03-UXT-01-PTT-109A.Temperature.ENG\",\n",
    "        \"WND-GFR-A03-UXT-01-PTT-109A.Pressure.ENG\",\n",
    "        \"WND-GFR-A03-UXT-01-PTT-109A.Temperature.ENG\",\n",
    "        \"WND-GFR-A03-UXT-01-PTT-109A.Pressure.ENG\",\n",
    "        \"WND-GFR-A03-UXT-01-PTT-109A.Pressure.ENG\",\n",
    "        \"WND-GFR-A03-UXT-01-PTT-109A.Temperature.ENG\"\n",
    "        \"WND-GFR-A03-UXT-01-FT-214.Flowrate.ENG\",\n",
    "        \"WND-GFR-A03-UXT-01-FT-115.Console.Volume-flow-rate-Water-RC.ENG\"\n",
    "    ]\n",
    "}"
   ]
  },
  {
   "cell_type": "markdown",
   "metadata": {},
   "source": [
    "Below block is to set a single tag to experiment - IGNORE - DON'T RUN"
   ]
  },
  {
   "cell_type": "code",
   "execution_count": 25,
   "metadata": {},
   "outputs": [],
   "source": [
    "tags = {\n",
    "    \"23258373C8D960DBE49C8DEF4CB2DF4212F3352CFDA1B0672F55E27577F1CA3F.WND PI Historian\": [\n",
    "    \"WND-GFR-A03*FI*214*\"\n",
    "    ]\n",
    "}"
   ]
  },
  {
   "cell_type": "markdown",
   "metadata": {},
   "source": [
    "Get data for the above tags averaged down to 1 minute intervals"
   ]
  },
  {
   "cell_type": "code",
   "execution_count": 55,
   "metadata": {},
   "outputs": [
    {
     "data": {
      "text/html": [
       "<div>\n",
       "<style scoped>\n",
       "    .dataframe tbody tr th:only-of-type {\n",
       "        vertical-align: middle;\n",
       "    }\n",
       "\n",
       "    .dataframe tbody tr th {\n",
       "        vertical-align: top;\n",
       "    }\n",
       "\n",
       "    .dataframe thead th {\n",
       "        text-align: right;\n",
       "    }\n",
       "</style>\n",
       "<table border=\"1\" class=\"dataframe\">\n",
       "  <thead>\n",
       "    <tr style=\"text-align: right;\">\n",
       "      <th></th>\n",
       "      <th>TimeStamp</th>\n",
       "      <th>WND-GFR-A03-UXT-01-FT-115.Console.Volume-flow-rate-water-RC.ENG</th>\n",
       "      <th>WND-GFR-A03-UXT-01-PTT-109A.Pressure.ENG</th>\n",
       "      <th>WND-GFR-A03-UXT-01-PTT-109A.Temperature.ENG</th>\n",
       "      <th>WND-GFR-A04-UXT-01-PTT-109A.Pressure.ENG</th>\n",
       "      <th>WND-GFR-A12PI101A.PV</th>\n",
       "      <th>WND-GFR-A11PI101A.PV</th>\n",
       "      <th>WND-GFR-A17-UXT-01-PTT-109A.Temperature.ENG</th>\n",
       "      <th>WND-GFR-A12TI101A.PV</th>\n",
       "      <th>WND-GFR-A13PI101A.PV</th>\n",
       "      <th>WND-GFR-A05-UXT-01-PTT-109A.Pressure.ENG</th>\n",
       "      <th>WND-GFR-A11TI101A.PV</th>\n",
       "      <th>WND-GFR-A04-UXT-01-PTT-109A.Temperature.ENG</th>\n",
       "      <th>WND-GFR-A13TI101A.PV</th>\n",
       "      <th>WND-GFR-A17-UXT-01-PTT-109A.Pressure.ENG</th>\n",
       "    </tr>\n",
       "  </thead>\n",
       "  <tbody>\n",
       "    <tr>\n",
       "      <th>0</th>\n",
       "      <td>2019-11-02 15:58:59+00:00</td>\n",
       "      <td>11.453994467698</td>\n",
       "      <td>110.381</td>\n",
       "      <td>34.60545</td>\n",
       "      <td>105.19</td>\n",
       "      <td>92.85165</td>\n",
       "      <td>92.83154</td>\n",
       "      <td>34.2957</td>\n",
       "      <td>20.07955</td>\n",
       "      <td>89.96045</td>\n",
       "      <td>99.4625</td>\n",
       "      <td>17.65517</td>\n",
       "      <td>25.4604</td>\n",
       "      <td>22.36663</td>\n",
       "      <td>113.2137</td>\n",
       "    </tr>\n",
       "    <tr>\n",
       "      <th>1</th>\n",
       "      <td>2019-11-02 16:58:59+00:00</td>\n",
       "      <td>11.44602704183</td>\n",
       "      <td>110.4069</td>\n",
       "      <td>34.60644</td>\n",
       "      <td>105.3479</td>\n",
       "      <td>92.88964</td>\n",
       "      <td>92.94625</td>\n",
       "      <td>34.29853</td>\n",
       "      <td>20.04447</td>\n",
       "      <td>90.03136</td>\n",
       "      <td>99.53707</td>\n",
       "      <td>17.75508</td>\n",
       "      <td>25.68427</td>\n",
       "      <td>22.37217</td>\n",
       "      <td>113.2648</td>\n",
       "    </tr>\n",
       "    <tr>\n",
       "      <th>2</th>\n",
       "      <td>2019-11-02 17:58:59+00:00</td>\n",
       "      <td>11.438059615962</td>\n",
       "      <td>110.4328</td>\n",
       "      <td>34.60744</td>\n",
       "      <td>105.2215</td>\n",
       "      <td>92.98491</td>\n",
       "      <td>93.01938</td>\n",
       "      <td>34.30135</td>\n",
       "      <td>20.03215</td>\n",
       "      <td>90.10609</td>\n",
       "      <td>99.61163</td>\n",
       "      <td>17.74145</td>\n",
       "      <td>26.25429</td>\n",
       "      <td>22.38748</td>\n",
       "      <td>113.3159</td>\n",
       "    </tr>\n",
       "    <tr>\n",
       "      <th>3</th>\n",
       "      <td>2019-11-02 18:58:59+00:00</td>\n",
       "      <td>11.4300921900941</td>\n",
       "      <td>110.4587</td>\n",
       "      <td>34.60844</td>\n",
       "      <td>105.2766</td>\n",
       "      <td>93.01229</td>\n",
       "      <td>92.9809</td>\n",
       "      <td>34.30418</td>\n",
       "      <td>20.15228</td>\n",
       "      <td>90.18124</td>\n",
       "      <td>99.6862</td>\n",
       "      <td>17.79803</td>\n",
       "      <td>26.24724</td>\n",
       "      <td>22.37795</td>\n",
       "      <td>113.367</td>\n",
       "    </tr>\n",
       "    <tr>\n",
       "      <th>4</th>\n",
       "      <td>2019-11-02 19:58:59+00:00</td>\n",
       "      <td>11.4221247642261</td>\n",
       "      <td>110.4847</td>\n",
       "      <td>34.60927</td>\n",
       "      <td>105.3271</td>\n",
       "      <td>93.06284</td>\n",
       "      <td>93.04356</td>\n",
       "      <td>34.307</td>\n",
       "      <td>20.22557</td>\n",
       "      <td>90.18124</td>\n",
       "      <td>99.72162</td>\n",
       "      <td>17.87953</td>\n",
       "      <td>26.24137</td>\n",
       "      <td>22.41291</td>\n",
       "      <td>113.4115</td>\n",
       "    </tr>\n",
       "    <tr>\n",
       "      <th>...</th>\n",
       "      <td>...</td>\n",
       "      <td>...</td>\n",
       "      <td>...</td>\n",
       "      <td>...</td>\n",
       "      <td>...</td>\n",
       "      <td>...</td>\n",
       "      <td>...</td>\n",
       "      <td>...</td>\n",
       "      <td>...</td>\n",
       "      <td>...</td>\n",
       "      <td>...</td>\n",
       "      <td>...</td>\n",
       "      <td>...</td>\n",
       "      <td>...</td>\n",
       "      <td>...</td>\n",
       "    </tr>\n",
       "    <tr>\n",
       "      <th>716</th>\n",
       "      <td>2019-12-02 11:58:59+00:00</td>\n",
       "      <td>11.3938465896832</td>\n",
       "      <td>114.7354</td>\n",
       "      <td>36.54273</td>\n",
       "      <td>109.739</td>\n",
       "      <td>98.37334</td>\n",
       "      <td>98.39096</td>\n",
       "      <td>36.65825</td>\n",
       "      <td>22.508</td>\n",
       "      <td>95.14122</td>\n",
       "      <td>105.0778</td>\n",
       "      <td>18.98316</td>\n",
       "      <td>28.67187</td>\n",
       "      <td>24.48143</td>\n",
       "      <td>118.67</td>\n",
       "    </tr>\n",
       "    <tr>\n",
       "      <th>717</th>\n",
       "      <td>2019-12-02 12:58:59+00:00</td>\n",
       "      <td>11.3689836702055</td>\n",
       "      <td>114.7259</td>\n",
       "      <td>36.53718</td>\n",
       "      <td>109.7374</td>\n",
       "      <td>98.31647</td>\n",
       "      <td>98.34061</td>\n",
       "      <td>36.65905</td>\n",
       "      <td>22.62481</td>\n",
       "      <td>95.14122</td>\n",
       "      <td>105.0614</td>\n",
       "      <td>18.87559</td>\n",
       "      <td>28.66163</td>\n",
       "      <td>24.54198</td>\n",
       "      <td>118.6639</td>\n",
       "    </tr>\n",
       "    <tr>\n",
       "      <th>718</th>\n",
       "      <td>2019-12-02 13:58:59+00:00</td>\n",
       "      <td>11.3441207507277</td>\n",
       "      <td>114.7163</td>\n",
       "      <td>36.52918</td>\n",
       "      <td>109.7357</td>\n",
       "      <td>98.33204</td>\n",
       "      <td>98.37554</td>\n",
       "      <td>36.65894</td>\n",
       "      <td>22.48688</td>\n",
       "      <td>95.14122</td>\n",
       "      <td>105.0451</td>\n",
       "      <td>19.09355</td>\n",
       "      <td>28.68327</td>\n",
       "      <td>24.52021</td>\n",
       "      <td>118.6578</td>\n",
       "    </tr>\n",
       "    <tr>\n",
       "      <th>719</th>\n",
       "      <td>2019-12-02 14:58:59+00:00</td>\n",
       "      <td>11.31925783125</td>\n",
       "      <td>114.7068</td>\n",
       "      <td>36.52119</td>\n",
       "      <td>109.7341</td>\n",
       "      <td>98.41374</td>\n",
       "      <td>98.37682</td>\n",
       "      <td>36.65882</td>\n",
       "      <td>22.66995</td>\n",
       "      <td>95.14281</td>\n",
       "      <td>105.0288</td>\n",
       "      <td>18.67824</td>\n",
       "      <td>28.70378</td>\n",
       "      <td>24.30405</td>\n",
       "      <td>118.6517</td>\n",
       "    </tr>\n",
       "    <tr>\n",
       "      <th>720</th>\n",
       "      <td>2019-12-02 15:58:59+00:00</td>\n",
       "      <td>11.294821</td>\n",
       "      <td>114.6974</td>\n",
       "      <td>36.51339</td>\n",
       "      <td>109.7346</td>\n",
       "      <td>98.39232</td>\n",
       "      <td>98.39023</td>\n",
       "      <td>36.65871</td>\n",
       "      <td>22.50084</td>\n",
       "      <td>95.14281</td>\n",
       "      <td>105.0034</td>\n",
       "      <td>19.16616</td>\n",
       "      <td>28.72406</td>\n",
       "      <td>24.42689</td>\n",
       "      <td>118.6457</td>\n",
       "    </tr>\n",
       "  </tbody>\n",
       "</table>\n",
       "<p>721 rows × 15 columns</p>\n",
       "</div>"
      ],
      "text/plain": [
       "                    TimeStamp  \\\n",
       "0   2019-11-02 15:58:59+00:00   \n",
       "1   2019-11-02 16:58:59+00:00   \n",
       "2   2019-11-02 17:58:59+00:00   \n",
       "3   2019-11-02 18:58:59+00:00   \n",
       "4   2019-11-02 19:58:59+00:00   \n",
       "..                        ...   \n",
       "716 2019-12-02 11:58:59+00:00   \n",
       "717 2019-12-02 12:58:59+00:00   \n",
       "718 2019-12-02 13:58:59+00:00   \n",
       "719 2019-12-02 14:58:59+00:00   \n",
       "720 2019-12-02 15:58:59+00:00   \n",
       "\n",
       "    WND-GFR-A03-UXT-01-FT-115.Console.Volume-flow-rate-water-RC.ENG  \\\n",
       "0                                      11.453994467698                \n",
       "1                                       11.44602704183                \n",
       "2                                      11.438059615962                \n",
       "3                                     11.4300921900941                \n",
       "4                                     11.4221247642261                \n",
       "..                                                 ...                \n",
       "716                                   11.3938465896832                \n",
       "717                                   11.3689836702055                \n",
       "718                                   11.3441207507277                \n",
       "719                                     11.31925783125                \n",
       "720                                          11.294821                \n",
       "\n",
       "    WND-GFR-A03-UXT-01-PTT-109A.Pressure.ENG  \\\n",
       "0                                    110.381   \n",
       "1                                   110.4069   \n",
       "2                                   110.4328   \n",
       "3                                   110.4587   \n",
       "4                                   110.4847   \n",
       "..                                       ...   \n",
       "716                                 114.7354   \n",
       "717                                 114.7259   \n",
       "718                                 114.7163   \n",
       "719                                 114.7068   \n",
       "720                                 114.6974   \n",
       "\n",
       "    WND-GFR-A03-UXT-01-PTT-109A.Temperature.ENG  \\\n",
       "0                                      34.60545   \n",
       "1                                      34.60644   \n",
       "2                                      34.60744   \n",
       "3                                      34.60844   \n",
       "4                                      34.60927   \n",
       "..                                          ...   \n",
       "716                                    36.54273   \n",
       "717                                    36.53718   \n",
       "718                                    36.52918   \n",
       "719                                    36.52119   \n",
       "720                                    36.51339   \n",
       "\n",
       "    WND-GFR-A04-UXT-01-PTT-109A.Pressure.ENG WND-GFR-A12PI101A.PV  \\\n",
       "0                                     105.19             92.85165   \n",
       "1                                   105.3479             92.88964   \n",
       "2                                   105.2215             92.98491   \n",
       "3                                   105.2766             93.01229   \n",
       "4                                   105.3271             93.06284   \n",
       "..                                       ...                  ...   \n",
       "716                                  109.739             98.37334   \n",
       "717                                 109.7374             98.31647   \n",
       "718                                 109.7357             98.33204   \n",
       "719                                 109.7341             98.41374   \n",
       "720                                 109.7346             98.39232   \n",
       "\n",
       "    WND-GFR-A11PI101A.PV WND-GFR-A17-UXT-01-PTT-109A.Temperature.ENG  \\\n",
       "0               92.83154                                     34.2957   \n",
       "1               92.94625                                    34.29853   \n",
       "2               93.01938                                    34.30135   \n",
       "3                92.9809                                    34.30418   \n",
       "4               93.04356                                      34.307   \n",
       "..                   ...                                         ...   \n",
       "716             98.39096                                    36.65825   \n",
       "717             98.34061                                    36.65905   \n",
       "718             98.37554                                    36.65894   \n",
       "719             98.37682                                    36.65882   \n",
       "720             98.39023                                    36.65871   \n",
       "\n",
       "    WND-GFR-A12TI101A.PV WND-GFR-A13PI101A.PV  \\\n",
       "0               20.07955             89.96045   \n",
       "1               20.04447             90.03136   \n",
       "2               20.03215             90.10609   \n",
       "3               20.15228             90.18124   \n",
       "4               20.22557             90.18124   \n",
       "..                   ...                  ...   \n",
       "716               22.508             95.14122   \n",
       "717             22.62481             95.14122   \n",
       "718             22.48688             95.14122   \n",
       "719             22.66995             95.14281   \n",
       "720             22.50084             95.14281   \n",
       "\n",
       "    WND-GFR-A05-UXT-01-PTT-109A.Pressure.ENG WND-GFR-A11TI101A.PV  \\\n",
       "0                                    99.4625             17.65517   \n",
       "1                                   99.53707             17.75508   \n",
       "2                                   99.61163             17.74145   \n",
       "3                                    99.6862             17.79803   \n",
       "4                                   99.72162             17.87953   \n",
       "..                                       ...                  ...   \n",
       "716                                 105.0778             18.98316   \n",
       "717                                 105.0614             18.87559   \n",
       "718                                 105.0451             19.09355   \n",
       "719                                 105.0288             18.67824   \n",
       "720                                 105.0034             19.16616   \n",
       "\n",
       "    WND-GFR-A04-UXT-01-PTT-109A.Temperature.ENG WND-GFR-A13TI101A.PV  \\\n",
       "0                                       25.4604             22.36663   \n",
       "1                                      25.68427             22.37217   \n",
       "2                                      26.25429             22.38748   \n",
       "3                                      26.24724             22.37795   \n",
       "4                                      26.24137             22.41291   \n",
       "..                                          ...                  ...   \n",
       "716                                    28.67187             24.48143   \n",
       "717                                    28.66163             24.54198   \n",
       "718                                    28.68327             24.52021   \n",
       "719                                    28.70378             24.30405   \n",
       "720                                    28.72406             24.42689   \n",
       "\n",
       "    WND-GFR-A17-UXT-01-PTT-109A.Pressure.ENG  \n",
       "0                                   113.2137  \n",
       "1                                   113.2648  \n",
       "2                                   113.3159  \n",
       "3                                    113.367  \n",
       "4                                   113.4115  \n",
       "..                                       ...  \n",
       "716                                   118.67  \n",
       "717                                 118.6639  \n",
       "718                                 118.6578  \n",
       "719                                 118.6517  \n",
       "720                                 118.6457  \n",
       "\n",
       "[721 rows x 15 columns]"
      ]
     },
     "execution_count": 55,
     "metadata": {},
     "output_type": "execute_result"
    }
   ],
   "source": [
    "resp = data_core.get_processed_data(tags, \"*-30d\", \"*\", \"1h\", \"interp\")\n",
    "df = utility.query_result_to_data_frame(resp)\n",
    "df"
   ]
  },
  {
   "cell_type": "code",
   "execution_count": 25,
   "metadata": {},
   "outputs": [
    {
     "ename": "TypeError",
     "evalue": "arg must be a list, tuple, 1-d array, or Series",
     "output_type": "error",
     "traceback": [
      "\u001b[0;31m---------------------------------------------------------------------------\u001b[0m",
      "\u001b[0;31mTypeError\u001b[0m                                 Traceback (most recent call last)",
      "\u001b[0;32m<ipython-input-25-f3e0091e8201>\u001b[0m in \u001b[0;36m<module>\u001b[0;34m\u001b[0m\n\u001b[0;32m----> 1\u001b[0;31m \u001b[0mdf\u001b[0m \u001b[0;34m=\u001b[0m \u001b[0mpd\u001b[0m\u001b[0;34m.\u001b[0m\u001b[0mto_numeric\u001b[0m\u001b[0;34m(\u001b[0m\u001b[0mdf\u001b[0m\u001b[0;34m)\u001b[0m\u001b[0;34m\u001b[0m\u001b[0;34m\u001b[0m\u001b[0m\n\u001b[0m",
      "\u001b[0;32m~/.local/lib/python3.6/site-packages/pandas/core/tools/numeric.py\u001b[0m in \u001b[0;36mto_numeric\u001b[0;34m(arg, errors, downcast)\u001b[0m\n\u001b[1;32m    136\u001b[0m         \u001b[0mvalues\u001b[0m \u001b[0;34m=\u001b[0m \u001b[0mnp\u001b[0m\u001b[0;34m.\u001b[0m\u001b[0marray\u001b[0m\u001b[0;34m(\u001b[0m\u001b[0;34m[\u001b[0m\u001b[0marg\u001b[0m\u001b[0;34m]\u001b[0m\u001b[0;34m,\u001b[0m \u001b[0mdtype\u001b[0m\u001b[0;34m=\u001b[0m\u001b[0;34m\"O\"\u001b[0m\u001b[0;34m)\u001b[0m\u001b[0;34m\u001b[0m\u001b[0;34m\u001b[0m\u001b[0m\n\u001b[1;32m    137\u001b[0m     \u001b[0;32melif\u001b[0m \u001b[0mgetattr\u001b[0m\u001b[0;34m(\u001b[0m\u001b[0marg\u001b[0m\u001b[0;34m,\u001b[0m \u001b[0;34m\"ndim\"\u001b[0m\u001b[0;34m,\u001b[0m \u001b[0;36m1\u001b[0m\u001b[0;34m)\u001b[0m \u001b[0;34m>\u001b[0m \u001b[0;36m1\u001b[0m\u001b[0;34m:\u001b[0m\u001b[0;34m\u001b[0m\u001b[0;34m\u001b[0m\u001b[0m\n\u001b[0;32m--> 138\u001b[0;31m         \u001b[0;32mraise\u001b[0m \u001b[0mTypeError\u001b[0m\u001b[0;34m(\u001b[0m\u001b[0;34m\"arg must be a list, tuple, 1-d array, or Series\"\u001b[0m\u001b[0;34m)\u001b[0m\u001b[0;34m\u001b[0m\u001b[0;34m\u001b[0m\u001b[0m\n\u001b[0m\u001b[1;32m    139\u001b[0m     \u001b[0;32melse\u001b[0m\u001b[0;34m:\u001b[0m\u001b[0;34m\u001b[0m\u001b[0;34m\u001b[0m\u001b[0m\n\u001b[1;32m    140\u001b[0m         \u001b[0mvalues\u001b[0m \u001b[0;34m=\u001b[0m \u001b[0marg\u001b[0m\u001b[0;34m\u001b[0m\u001b[0;34m\u001b[0m\u001b[0m\n",
      "\u001b[0;31mTypeError\u001b[0m: arg must be a list, tuple, 1-d array, or Series"
     ]
    }
   ],
   "source": [
    "df = pd.to_numeric(df)"
   ]
  },
  {
   "cell_type": "code",
   "execution_count": 48,
   "metadata": {},
   "outputs": [
    {
     "ename": "ValueError",
     "evalue": "Unable to parse string \"I/O Timeout\" at position 287",
     "output_type": "error",
     "traceback": [
      "\u001b[0;31m---------------------------------------------------------------------------\u001b[0m",
      "\u001b[0;31mValueError\u001b[0m                                Traceback (most recent call last)",
      "\u001b[0;32mpandas/_libs/lib.pyx\u001b[0m in \u001b[0;36mpandas._libs.lib.maybe_convert_numeric\u001b[0;34m()\u001b[0m\n",
      "\u001b[0;31mValueError\u001b[0m: Unable to parse string \"I/O Timeout\"",
      "\nDuring handling of the above exception, another exception occurred:\n",
      "\u001b[0;31mValueError\u001b[0m                                Traceback (most recent call last)",
      "\u001b[0;32m<ipython-input-48-40da8c08b4f6>\u001b[0m in \u001b[0;36m<module>\u001b[0;34m\u001b[0m\n\u001b[1;32m      1\u001b[0m \u001b[0mdf\u001b[0m\u001b[0;34m.\u001b[0m\u001b[0mcolumns\u001b[0m \u001b[0;34m=\u001b[0m \u001b[0;34m[\u001b[0m\u001b[0;34m'TimeStamp'\u001b[0m\u001b[0;34m,\u001b[0m \u001b[0;34m'Pressure'\u001b[0m\u001b[0;34m,\u001b[0m \u001b[0;34m'Temperature'\u001b[0m\u001b[0;34m]\u001b[0m\u001b[0;34m\u001b[0m\u001b[0;34m\u001b[0m\u001b[0m\n\u001b[1;32m      2\u001b[0m \u001b[0;31m#df['Pressure'] = pd.to_numeric(df.Pressure, errors = coerce)\u001b[0m\u001b[0;34m\u001b[0m\u001b[0;34m\u001b[0m\u001b[0;34m\u001b[0m\u001b[0m\n\u001b[0;32m----> 3\u001b[0;31m \u001b[0mdf\u001b[0m\u001b[0;34m[\u001b[0m\u001b[0;34m'Pressure'\u001b[0m\u001b[0;34m]\u001b[0m \u001b[0;34m=\u001b[0m \u001b[0mpd\u001b[0m\u001b[0;34m.\u001b[0m\u001b[0mto_numeric\u001b[0m\u001b[0;34m(\u001b[0m\u001b[0mdf\u001b[0m\u001b[0;34m.\u001b[0m\u001b[0mPressure\u001b[0m\u001b[0;34m)\u001b[0m\u001b[0;34m\u001b[0m\u001b[0;34m\u001b[0m\u001b[0m\n\u001b[0m",
      "\u001b[0;32m~/.local/lib/python3.6/site-packages/pandas/core/tools/numeric.py\u001b[0m in \u001b[0;36mto_numeric\u001b[0;34m(arg, errors, downcast)\u001b[0m\n\u001b[1;32m    149\u001b[0m             \u001b[0mcoerce_numeric\u001b[0m \u001b[0;34m=\u001b[0m \u001b[0merrors\u001b[0m \u001b[0;32mnot\u001b[0m \u001b[0;32min\u001b[0m \u001b[0;34m(\u001b[0m\u001b[0;34m\"ignore\"\u001b[0m\u001b[0;34m,\u001b[0m \u001b[0;34m\"raise\"\u001b[0m\u001b[0;34m)\u001b[0m\u001b[0;34m\u001b[0m\u001b[0;34m\u001b[0m\u001b[0m\n\u001b[1;32m    150\u001b[0m             values = lib.maybe_convert_numeric(\n\u001b[0;32m--> 151\u001b[0;31m                 \u001b[0mvalues\u001b[0m\u001b[0;34m,\u001b[0m \u001b[0mset\u001b[0m\u001b[0;34m(\u001b[0m\u001b[0;34m)\u001b[0m\u001b[0;34m,\u001b[0m \u001b[0mcoerce_numeric\u001b[0m\u001b[0;34m=\u001b[0m\u001b[0mcoerce_numeric\u001b[0m\u001b[0;34m\u001b[0m\u001b[0;34m\u001b[0m\u001b[0m\n\u001b[0m\u001b[1;32m    152\u001b[0m             )\n\u001b[1;32m    153\u001b[0m \u001b[0;34m\u001b[0m\u001b[0m\n",
      "\u001b[0;32mpandas/_libs/lib.pyx\u001b[0m in \u001b[0;36mpandas._libs.lib.maybe_convert_numeric\u001b[0;34m()\u001b[0m\n",
      "\u001b[0;31mValueError\u001b[0m: Unable to parse string \"I/O Timeout\" at position 287"
     ]
    }
   ],
   "source": [
    "df.columns = ['TimeStamp', 'Pressure', 'Temperature']\n",
    "#df['Pressure'] = pd.to_numeric(df.Pressure, errors = coerce)\n",
    "df['Pressure'] = pd.to_numeric(df.Pressure)"
   ]
  },
  {
   "cell_type": "code",
   "execution_count": 44,
   "metadata": {},
   "outputs": [
    {
     "ename": "AttributeError",
     "evalue": "'DataFrame' object has no attribute 'names'",
     "output_type": "error",
     "traceback": [
      "\u001b[0;31m---------------------------------------------------------------------------\u001b[0m",
      "\u001b[0;31mAttributeError\u001b[0m                            Traceback (most recent call last)",
      "\u001b[0;32m<ipython-input-44-674a5dbfb2bd>\u001b[0m in \u001b[0;36m<module>\u001b[0;34m\u001b[0m\n\u001b[1;32m      1\u001b[0m \u001b[0mlen\u001b[0m\u001b[0;34m(\u001b[0m\u001b[0mdf\u001b[0m\u001b[0;34m)\u001b[0m\u001b[0;34m\u001b[0m\u001b[0;34m\u001b[0m\u001b[0m\n\u001b[0;32m----> 2\u001b[0;31m \u001b[0mdf\u001b[0m\u001b[0;34m.\u001b[0m\u001b[0mnames\u001b[0m\u001b[0;34m\u001b[0m\u001b[0;34m\u001b[0m\u001b[0m\n\u001b[0m",
      "\u001b[0;32m~/.local/lib/python3.6/site-packages/pandas/core/generic.py\u001b[0m in \u001b[0;36m__getattr__\u001b[0;34m(self, name)\u001b[0m\n\u001b[1;32m   5177\u001b[0m             \u001b[0;32mif\u001b[0m \u001b[0mself\u001b[0m\u001b[0;34m.\u001b[0m\u001b[0m_info_axis\u001b[0m\u001b[0;34m.\u001b[0m\u001b[0m_can_hold_identifiers_and_holds_name\u001b[0m\u001b[0;34m(\u001b[0m\u001b[0mname\u001b[0m\u001b[0;34m)\u001b[0m\u001b[0;34m:\u001b[0m\u001b[0;34m\u001b[0m\u001b[0;34m\u001b[0m\u001b[0m\n\u001b[1;32m   5178\u001b[0m                 \u001b[0;32mreturn\u001b[0m \u001b[0mself\u001b[0m\u001b[0;34m[\u001b[0m\u001b[0mname\u001b[0m\u001b[0;34m]\u001b[0m\u001b[0;34m\u001b[0m\u001b[0;34m\u001b[0m\u001b[0m\n\u001b[0;32m-> 5179\u001b[0;31m             \u001b[0;32mreturn\u001b[0m \u001b[0mobject\u001b[0m\u001b[0;34m.\u001b[0m\u001b[0m__getattribute__\u001b[0m\u001b[0;34m(\u001b[0m\u001b[0mself\u001b[0m\u001b[0;34m,\u001b[0m \u001b[0mname\u001b[0m\u001b[0;34m)\u001b[0m\u001b[0;34m\u001b[0m\u001b[0;34m\u001b[0m\u001b[0m\n\u001b[0m\u001b[1;32m   5180\u001b[0m \u001b[0;34m\u001b[0m\u001b[0m\n\u001b[1;32m   5181\u001b[0m     \u001b[0;32mdef\u001b[0m \u001b[0m__setattr__\u001b[0m\u001b[0;34m(\u001b[0m\u001b[0mself\u001b[0m\u001b[0;34m,\u001b[0m \u001b[0mname\u001b[0m\u001b[0;34m,\u001b[0m \u001b[0mvalue\u001b[0m\u001b[0;34m)\u001b[0m\u001b[0;34m:\u001b[0m\u001b[0;34m\u001b[0m\u001b[0;34m\u001b[0m\u001b[0m\n",
      "\u001b[0;31mAttributeError\u001b[0m: 'DataFrame' object has no attribute 'names'"
     ]
    }
   ],
   "source": [
    "len(df)\n"
   ]
  },
  {
   "cell_type": "markdown",
   "metadata": {},
   "source": [
    "Plot the data retrieved"
   ]
  },
  {
   "cell_type": "code",
   "execution_count": 28,
   "metadata": {},
   "outputs": [
    {
     "ename": "ValueError",
     "evalue": "Unable to parse string \"I/O Timeout\" at position 288",
     "output_type": "error",
     "traceback": [
      "\u001b[0;31m---------------------------------------------------------------------------\u001b[0m",
      "\u001b[0;31mValueError\u001b[0m                                Traceback (most recent call last)",
      "\u001b[0;32mpandas/_libs/lib.pyx\u001b[0m in \u001b[0;36mpandas._libs.lib.maybe_convert_numeric\u001b[0;34m()\u001b[0m\n",
      "\u001b[0;31mValueError\u001b[0m: Unable to parse string \"I/O Timeout\"",
      "\nDuring handling of the above exception, another exception occurred:\n",
      "\u001b[0;31mValueError\u001b[0m                                Traceback (most recent call last)",
      "\u001b[0;32m<ipython-input-28-1256eb85b694>\u001b[0m in \u001b[0;36m<module>\u001b[0;34m\u001b[0m\n\u001b[1;32m      5\u001b[0m \u001b[0max\u001b[0m \u001b[0;34m=\u001b[0m \u001b[0mplt\u001b[0m\u001b[0;34m.\u001b[0m\u001b[0mgca\u001b[0m\u001b[0;34m(\u001b[0m\u001b[0;34m)\u001b[0m\u001b[0;34m\u001b[0m\u001b[0;34m\u001b[0m\u001b[0m\n\u001b[1;32m      6\u001b[0m \u001b[0;34m\u001b[0m\u001b[0m\n\u001b[0;32m----> 7\u001b[0;31m \u001b[0mplt\u001b[0m\u001b[0;34m.\u001b[0m\u001b[0mplot\u001b[0m\u001b[0;34m(\u001b[0m\u001b[0mkind\u001b[0m \u001b[0;34m=\u001b[0m \u001b[0;34m'line'\u001b[0m\u001b[0;34m,\u001b[0m \u001b[0mx\u001b[0m \u001b[0;34m=\u001b[0m \u001b[0mpd\u001b[0m\u001b[0;34m.\u001b[0m\u001b[0mto_numeric\u001b[0m\u001b[0;34m(\u001b[0m\u001b[0mdf\u001b[0m\u001b[0;34m[\u001b[0m\u001b[0;34m'WND-GFR-A12TI101A.PV'\u001b[0m\u001b[0;34m]\u001b[0m\u001b[0;34m)\u001b[0m\u001b[0;34m,\u001b[0m \u001b[0my\u001b[0m \u001b[0;34m=\u001b[0m \u001b[0mpd\u001b[0m\u001b[0;34m.\u001b[0m\u001b[0mto_numeric\u001b[0m\u001b[0;34m(\u001b[0m\u001b[0mdf\u001b[0m\u001b[0;34m[\u001b[0m\u001b[0;34m'WND-GFR-A12PI101A.PV'\u001b[0m\u001b[0;34m]\u001b[0m\u001b[0;34m)\u001b[0m\u001b[0;34m,\u001b[0m \u001b[0max\u001b[0m \u001b[0;34m=\u001b[0m \u001b[0max\u001b[0m\u001b[0;34m)\u001b[0m\u001b[0;34m\u001b[0m\u001b[0;34m\u001b[0m\u001b[0m\n\u001b[0m\u001b[1;32m      8\u001b[0m \u001b[0mplt\u001b[0m\u001b[0;34m.\u001b[0m\u001b[0mplot\u001b[0m\u001b[0;34m(\u001b[0m\u001b[0mkind\u001b[0m \u001b[0;34m=\u001b[0m \u001b[0;34m'line'\u001b[0m\u001b[0;34m,\u001b[0m \u001b[0mx\u001b[0m \u001b[0;34m=\u001b[0m \u001b[0mpd\u001b[0m\u001b[0;34m.\u001b[0m\u001b[0mto_numeric\u001b[0m\u001b[0;34m(\u001b[0m\u001b[0mdf\u001b[0m\u001b[0;34m[\u001b[0m\u001b[0;34m'WND-GFR-A11TI101A.PV'\u001b[0m\u001b[0;34m]\u001b[0m\u001b[0;34m)\u001b[0m\u001b[0;34m,\u001b[0m \u001b[0my\u001b[0m \u001b[0;34m=\u001b[0m \u001b[0mpd\u001b[0m\u001b[0;34m.\u001b[0m\u001b[0mto_numeric\u001b[0m\u001b[0;34m(\u001b[0m\u001b[0mdf\u001b[0m\u001b[0;34m[\u001b[0m\u001b[0;34m'WND-GFR-A11PI101A.PV'\u001b[0m\u001b[0;34m]\u001b[0m\u001b[0;34m)\u001b[0m\u001b[0;34m,\u001b[0m \u001b[0mcolor\u001b[0m \u001b[0;34m=\u001b[0m \u001b[0;34m'red'\u001b[0m\u001b[0;34m,\u001b[0m \u001b[0max\u001b[0m \u001b[0;34m=\u001b[0m \u001b[0max\u001b[0m\u001b[0;34m)\u001b[0m\u001b[0;34m\u001b[0m\u001b[0;34m\u001b[0m\u001b[0m\n\u001b[1;32m      9\u001b[0m \u001b[0;31m#df.plot(kind = 'line', x='TimeStamp', y = 'WND-GFR-A12TI101A.PV', color = 'red', ax = ax)\u001b[0m\u001b[0;34m\u001b[0m\u001b[0;34m\u001b[0m\u001b[0;34m\u001b[0m\u001b[0m\n",
      "\u001b[0;32m~/.local/lib/python3.6/site-packages/pandas/core/tools/numeric.py\u001b[0m in \u001b[0;36mto_numeric\u001b[0;34m(arg, errors, downcast)\u001b[0m\n\u001b[1;32m    149\u001b[0m             \u001b[0mcoerce_numeric\u001b[0m \u001b[0;34m=\u001b[0m \u001b[0merrors\u001b[0m \u001b[0;32mnot\u001b[0m \u001b[0;32min\u001b[0m \u001b[0;34m(\u001b[0m\u001b[0;34m\"ignore\"\u001b[0m\u001b[0;34m,\u001b[0m \u001b[0;34m\"raise\"\u001b[0m\u001b[0;34m)\u001b[0m\u001b[0;34m\u001b[0m\u001b[0;34m\u001b[0m\u001b[0m\n\u001b[1;32m    150\u001b[0m             values = lib.maybe_convert_numeric(\n\u001b[0;32m--> 151\u001b[0;31m                 \u001b[0mvalues\u001b[0m\u001b[0;34m,\u001b[0m \u001b[0mset\u001b[0m\u001b[0;34m(\u001b[0m\u001b[0;34m)\u001b[0m\u001b[0;34m,\u001b[0m \u001b[0mcoerce_numeric\u001b[0m\u001b[0;34m=\u001b[0m\u001b[0mcoerce_numeric\u001b[0m\u001b[0;34m\u001b[0m\u001b[0;34m\u001b[0m\u001b[0m\n\u001b[0m\u001b[1;32m    152\u001b[0m             )\n\u001b[1;32m    153\u001b[0m \u001b[0;34m\u001b[0m\u001b[0m\n",
      "\u001b[0;32mpandas/_libs/lib.pyx\u001b[0m in \u001b[0;36mpandas._libs.lib.maybe_convert_numeric\u001b[0;34m()\u001b[0m\n",
      "\u001b[0;31mValueError\u001b[0m: Unable to parse string \"I/O Timeout\" at position 288"
     ]
    },
    {
     "data": {
      "image/png": "[encoded data removed]",
      "text/plain": [
       "<Figure size 432x288 with 1 Axes>"
      ]
     },
     "metadata": {
      "needs_background": "light"
     },
     "output_type": "display_data"
    }
   ],
   "source": [
    "import matplotlib.pyplot as plt\n",
    "import pandas as pd\n",
    "\n",
    "# gca stands for 'get current axis'\n",
    "ax = plt.gca()\n",
    "\n",
    "plt.plot(kind = 'line', x = pd.to_numeric(df['WND-GFR-A12TI101A.PV']), y = pd.to_numeric(df['WND-GFR-A12PI101A.PV']), ax = ax)\n",
    "plt.plot(kind = 'line', x = pd.to_numeric(df['WND-GFR-A11TI101A.PV']), y = pd.to_numeric(df['WND-GFR-A11PI101A.PV']), color = 'red', ax = ax)\n",
    "#df.plot(kind = 'line', x='TimeStamp', y = 'WND-GFR-A12TI101A.PV', color = 'red', ax = ax)\n",
    "\n",
    "plt.show()\n"
   ]
  },
  {
   "cell_type": "code",
   "execution_count": 39,
   "metadata": {},
   "outputs": [
    {
     "data": {
      "text/plain": [
       "TimeStamp               datetime64[ns, UTC]\n",
       "WND-GFR-A11PI101A.PV                 object\n",
       "WND-GFR-A11TI101A.PV                 object\n",
       "dtype: object"
      ]
     },
     "execution_count": 39,
     "metadata": {},
     "output_type": "execute_result"
    }
   ],
   "source": [
    "df.dtypes"
   ]
  },
  {
   "cell_type": "code",
   "execution_count": 18,
   "metadata": {},
   "outputs": [
    {
     "data": {
      "text/plain": [
       "0      92.08889\n",
       "1      92.68818\n",
       "2      92.82496\n",
       "3      92.96339\n",
       "4        92.946\n",
       "         ...   \n",
       "716    98.45529\n",
       "717    98.40088\n",
       "718    98.33047\n",
       "719    98.33433\n",
       "720    98.42583\n",
       "Name: WND-GFR-A11PI101A.PV, Length: 721, dtype: object"
      ]
     },
     "execution_count": 18,
     "metadata": {},
     "output_type": "execute_result"
    }
   ],
   "source": [
    "df[\"WND-GFR-A11PI101A.PV\"]"
   ]
  },
  {
   "cell_type": "code",
   "execution_count": 34,
   "metadata": {},
   "outputs": [
    {
     "ename": "AttributeError",
     "evalue": "'DataFrame' object has no attribute 'WND'",
     "output_type": "error",
     "traceback": [
      "\u001b[0;31m---------------------------------------------------------------------------\u001b[0m",
      "\u001b[0;31mAttributeError\u001b[0m                            Traceback (most recent call last)",
      "\u001b[0;32m<ipython-input-34-edc7778f4445>\u001b[0m in \u001b[0;36m<module>\u001b[0;34m\u001b[0m\n\u001b[0;32m----> 1\u001b[0;31m \u001b[0mfred\u001b[0m \u001b[0;34m=\u001b[0m \u001b[0mpd\u001b[0m\u001b[0;34m.\u001b[0m\u001b[0mto_numeric\u001b[0m\u001b[0;34m(\u001b[0m\u001b[0mdf\u001b[0m\u001b[0;34m.\u001b[0m\u001b[0mWND\u001b[0m\u001b[0;34m-\u001b[0m\u001b[0mGFR\u001b[0m\u001b[0;34m-\u001b[0m\u001b[0mA12TI101A\u001b[0m\u001b[0;34m.\u001b[0m\u001b[0mPV\u001b[0m\u001b[0;34m)\u001b[0m\u001b[0;34m\u001b[0m\u001b[0;34m\u001b[0m\u001b[0m\n\u001b[0m",
      "\u001b[0;32m~/.local/lib/python3.6/site-packages/pandas/core/generic.py\u001b[0m in \u001b[0;36m__getattr__\u001b[0;34m(self, name)\u001b[0m\n\u001b[1;32m   5177\u001b[0m             \u001b[0;32mif\u001b[0m \u001b[0mself\u001b[0m\u001b[0;34m.\u001b[0m\u001b[0m_info_axis\u001b[0m\u001b[0;34m.\u001b[0m\u001b[0m_can_hold_identifiers_and_holds_name\u001b[0m\u001b[0;34m(\u001b[0m\u001b[0mname\u001b[0m\u001b[0;34m)\u001b[0m\u001b[0;34m:\u001b[0m\u001b[0;34m\u001b[0m\u001b[0;34m\u001b[0m\u001b[0m\n\u001b[1;32m   5178\u001b[0m                 \u001b[0;32mreturn\u001b[0m \u001b[0mself\u001b[0m\u001b[0;34m[\u001b[0m\u001b[0mname\u001b[0m\u001b[0;34m]\u001b[0m\u001b[0;34m\u001b[0m\u001b[0;34m\u001b[0m\u001b[0m\n\u001b[0;32m-> 5179\u001b[0;31m             \u001b[0;32mreturn\u001b[0m \u001b[0mobject\u001b[0m\u001b[0;34m.\u001b[0m\u001b[0m__getattribute__\u001b[0m\u001b[0;34m(\u001b[0m\u001b[0mself\u001b[0m\u001b[0;34m,\u001b[0m \u001b[0mname\u001b[0m\u001b[0;34m)\u001b[0m\u001b[0;34m\u001b[0m\u001b[0;34m\u001b[0m\u001b[0m\n\u001b[0m\u001b[1;32m   5180\u001b[0m \u001b[0;34m\u001b[0m\u001b[0m\n\u001b[1;32m   5181\u001b[0m     \u001b[0;32mdef\u001b[0m \u001b[0m__setattr__\u001b[0m\u001b[0;34m(\u001b[0m\u001b[0mself\u001b[0m\u001b[0;34m,\u001b[0m \u001b[0mname\u001b[0m\u001b[0;34m,\u001b[0m \u001b[0mvalue\u001b[0m\u001b[0;34m)\u001b[0m\u001b[0;34m:\u001b[0m\u001b[0;34m\u001b[0m\u001b[0;34m\u001b[0m\u001b[0m\n",
      "\u001b[0;31mAttributeError\u001b[0m: 'DataFrame' object has no attribute 'WND'"
     ]
    }
   ],
   "source": [
    "fred = pd.to_numeric(df.WND-GFR-A12TI101A.PV)"
   ]
  },
  {
   "cell_type": "code",
   "execution_count": 32,
   "metadata": {},
   "outputs": [
    {
     "data": {
      "text/plain": [
       "0      92.08889\n",
       "1      92.68818\n",
       "2      92.82496\n",
       "3      92.96339\n",
       "4        92.946\n",
       "         ...   \n",
       "716    98.45529\n",
       "717    98.40088\n",
       "718    98.33047\n",
       "719    98.33433\n",
       "720    98.42583\n",
       "Name: WND-GFR-A11PI101A.PV, Length: 721, dtype: object"
      ]
     },
     "execution_count": 32,
     "metadata": {},
     "output_type": "execute_result"
    }
   ],
   "source": [
    "df[\"WND-GFR-A11PI101A.PV\"]"
   ]
  },
  {
   "cell_type": "code",
   "execution_count": null,
   "metadata": {},
   "outputs": [],
   "source": []
  }
 ],
 "metadata": {
  "kernelspec": {
   "display_name": "Python 3",
   "language": "python",
   "name": "python3"
  },
  "language_info": {
   "codemirror_mode": {
    "name": "ipython",
    "version": 3
   },
   "file_extension": ".py",
   "mimetype": "text/x-python",
   "name": "python",
   "nbconvert_exporter": "python",
   "pygments_lexer": "ipython3",
   "version": "3.6.8"
  }
 },
 "nbformat": 4,
 "nbformat_minor": 4
}
